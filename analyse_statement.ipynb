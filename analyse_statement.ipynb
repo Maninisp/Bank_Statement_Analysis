{
 "cells": [
  {
   "cell_type": "code",
   "execution_count": 1,
   "metadata": {},
   "outputs": [
    {
     "name": "stdout",
     "output_type": "stream",
     "text": [
      "0         Date  Description  Amount Type\n",
      "0   2022-06-06      Grocery   24.15   DR\n",
      "1   2022-06-07         Mall  120.30   DR\n",
      "2   2022-06-07         Food  446.83   DR\n",
      "3   2022-06-11         Rent  223.38   DR\n",
      "4   2022-06-14  Electricity   31.12   DR\n",
      "..         ...          ...     ...  ...\n",
      "95  2023-05-17         Mall  175.78   DR\n",
      "96  2023-05-17          Bus   37.40   DR\n",
      "97  2023-05-24      Grocery  398.76   DR\n",
      "98  2023-06-01      Grocery  330.05   DR\n",
      "99  2023-06-01     Internet  388.07   DR\n",
      "\n",
      "[100 rows x 4 columns]\n"
     ]
    }
   ],
   "source": [
    "import pdfplumber\n",
    "import numpy as np\n",
    "import pandas as pd\n",
    "import datetime as dt\n",
    "import matplotlib.pyplot as plt\n",
    "\n",
    "def extract_tables_from_pdf(pdf_path):\n",
    "    all_dataframes = []\n",
    "    header = None  # Variable to store the header\n",
    "\n",
    "    with pdfplumber.open(pdf_path) as pdf:\n",
    "        for page_num, page in enumerate(pdf.pages):\n",
    "            tables = page.extract_tables()\n",
    "\n",
    "            for table in tables:\n",
    "                df = pd.DataFrame(table)\n",
    "\n",
    "                # If header is not set, take it from the first row of the first table\n",
    "                if header is None:\n",
    "                    header = df.iloc[0]  # Take the first row as header\n",
    "                    df.columns = header\n",
    "                    df = df[1:]  # Drop the header row\n",
    "                else:\n",
    "                    df.columns = header\n",
    "\n",
    "                all_dataframes.append(df)\n",
    "\n",
    "    # Concatenate all dataframes\n",
    "    combined_df = pd.concat(all_dataframes, ignore_index=True)\n",
    "    return combined_df\n",
    "\n",
    "pdf_path = \"Bank_Statement.pdf\"\n",
    "df = extract_tables_from_pdf(pdf_path)\n",
    "print(df)\n"
   ]
  },
  {
   "cell_type": "code",
   "execution_count": 2,
   "metadata": {},
   "outputs": [
    {
     "data": {
      "text/html": [
       "<div>\n",
       "<style scoped>\n",
       "    .dataframe tbody tr th:only-of-type {\n",
       "        vertical-align: middle;\n",
       "    }\n",
       "\n",
       "    .dataframe tbody tr th {\n",
       "        vertical-align: top;\n",
       "    }\n",
       "\n",
       "    .dataframe thead th {\n",
       "        text-align: right;\n",
       "    }\n",
       "</style>\n",
       "<table border=\"1\" class=\"dataframe\">\n",
       "  <thead>\n",
       "    <tr style=\"text-align: right;\">\n",
       "      <th></th>\n",
       "      <th>Date</th>\n",
       "      <th>Description</th>\n",
       "      <th>Amount</th>\n",
       "      <th>Type</th>\n",
       "    </tr>\n",
       "  </thead>\n",
       "  <tbody>\n",
       "    <tr>\n",
       "      <th>0</th>\n",
       "      <td>2022-06-06</td>\n",
       "      <td>Grocery</td>\n",
       "      <td>24.15</td>\n",
       "      <td>DR</td>\n",
       "    </tr>\n",
       "    <tr>\n",
       "      <th>1</th>\n",
       "      <td>2022-06-07</td>\n",
       "      <td>Mall</td>\n",
       "      <td>120.30</td>\n",
       "      <td>DR</td>\n",
       "    </tr>\n",
       "    <tr>\n",
       "      <th>2</th>\n",
       "      <td>2022-06-07</td>\n",
       "      <td>Food</td>\n",
       "      <td>446.83</td>\n",
       "      <td>DR</td>\n",
       "    </tr>\n",
       "    <tr>\n",
       "      <th>3</th>\n",
       "      <td>2022-06-11</td>\n",
       "      <td>Rent</td>\n",
       "      <td>223.38</td>\n",
       "      <td>DR</td>\n",
       "    </tr>\n",
       "    <tr>\n",
       "      <th>4</th>\n",
       "      <td>2022-06-14</td>\n",
       "      <td>Electricity</td>\n",
       "      <td>31.12</td>\n",
       "      <td>DR</td>\n",
       "    </tr>\n",
       "  </tbody>\n",
       "</table>\n",
       "</div>"
      ],
      "text/plain": [
       "0        Date  Description  Amount Type\n",
       "0  2022-06-06      Grocery   24.15   DR\n",
       "1  2022-06-07         Mall  120.30   DR\n",
       "2  2022-06-07         Food  446.83   DR\n",
       "3  2022-06-11         Rent  223.38   DR\n",
       "4  2022-06-14  Electricity   31.12   DR"
      ]
     },
     "execution_count": 2,
     "metadata": {},
     "output_type": "execute_result"
    }
   ],
   "source": [
    "df.head()"
   ]
  },
  {
   "cell_type": "code",
   "execution_count": 3,
   "metadata": {},
   "outputs": [
    {
     "data": {
      "text/html": [
       "<div>\n",
       "<style scoped>\n",
       "    .dataframe tbody tr th:only-of-type {\n",
       "        vertical-align: middle;\n",
       "    }\n",
       "\n",
       "    .dataframe tbody tr th {\n",
       "        vertical-align: top;\n",
       "    }\n",
       "\n",
       "    .dataframe thead th {\n",
       "        text-align: right;\n",
       "    }\n",
       "</style>\n",
       "<table border=\"1\" class=\"dataframe\">\n",
       "  <thead>\n",
       "    <tr style=\"text-align: right;\">\n",
       "      <th></th>\n",
       "      <th>Date</th>\n",
       "      <th>Description</th>\n",
       "      <th>Amount</th>\n",
       "      <th>Type</th>\n",
       "    </tr>\n",
       "  </thead>\n",
       "  <tbody>\n",
       "    <tr>\n",
       "      <th>0</th>\n",
       "      <td>2022-06-06</td>\n",
       "      <td>Grocery</td>\n",
       "      <td>24.15</td>\n",
       "      <td>DR</td>\n",
       "    </tr>\n",
       "    <tr>\n",
       "      <th>1</th>\n",
       "      <td>2022-06-07</td>\n",
       "      <td>Mall</td>\n",
       "      <td>120.30</td>\n",
       "      <td>DR</td>\n",
       "    </tr>\n",
       "    <tr>\n",
       "      <th>2</th>\n",
       "      <td>2022-06-07</td>\n",
       "      <td>Food</td>\n",
       "      <td>446.83</td>\n",
       "      <td>DR</td>\n",
       "    </tr>\n",
       "    <tr>\n",
       "      <th>3</th>\n",
       "      <td>2022-06-11</td>\n",
       "      <td>Rent</td>\n",
       "      <td>223.38</td>\n",
       "      <td>DR</td>\n",
       "    </tr>\n",
       "    <tr>\n",
       "      <th>4</th>\n",
       "      <td>2022-06-14</td>\n",
       "      <td>Electricity</td>\n",
       "      <td>31.12</td>\n",
       "      <td>DR</td>\n",
       "    </tr>\n",
       "  </tbody>\n",
       "</table>\n",
       "</div>"
      ],
      "text/plain": [
       "0        Date  Description  Amount Type\n",
       "0  2022-06-06      Grocery   24.15   DR\n",
       "1  2022-06-07         Mall  120.30   DR\n",
       "2  2022-06-07         Food  446.83   DR\n",
       "3  2022-06-11         Rent  223.38   DR\n",
       "4  2022-06-14  Electricity   31.12   DR"
      ]
     },
     "execution_count": 3,
     "metadata": {},
     "output_type": "execute_result"
    }
   ],
   "source": [
    "df.head()"
   ]
  },
  {
   "cell_type": "code",
   "execution_count": 4,
   "metadata": {},
   "outputs": [
    {
     "data": {
      "text/html": [
       "<div>\n",
       "<style scoped>\n",
       "    .dataframe tbody tr th:only-of-type {\n",
       "        vertical-align: middle;\n",
       "    }\n",
       "\n",
       "    .dataframe tbody tr th {\n",
       "        vertical-align: top;\n",
       "    }\n",
       "\n",
       "    .dataframe thead th {\n",
       "        text-align: right;\n",
       "    }\n",
       "</style>\n",
       "<table border=\"1\" class=\"dataframe\">\n",
       "  <thead>\n",
       "    <tr style=\"text-align: right;\">\n",
       "      <th></th>\n",
       "      <th>Date</th>\n",
       "      <th>Description</th>\n",
       "      <th>Amount</th>\n",
       "      <th>Type</th>\n",
       "    </tr>\n",
       "  </thead>\n",
       "  <tbody>\n",
       "    <tr>\n",
       "      <th>5</th>\n",
       "      <td>2022-06-20</td>\n",
       "      <td>Salary</td>\n",
       "      <td>144.07</td>\n",
       "      <td>CR</td>\n",
       "    </tr>\n",
       "    <tr>\n",
       "      <th>10</th>\n",
       "      <td>2022-07-03</td>\n",
       "      <td>Salary</td>\n",
       "      <td>345.55</td>\n",
       "      <td>CR</td>\n",
       "    </tr>\n",
       "    <tr>\n",
       "      <th>15</th>\n",
       "      <td>2022-08-01</td>\n",
       "      <td>Salary</td>\n",
       "      <td>402.10</td>\n",
       "      <td>CR</td>\n",
       "    </tr>\n",
       "    <tr>\n",
       "      <th>20</th>\n",
       "      <td>2022-08-22</td>\n",
       "      <td>Salary</td>\n",
       "      <td>161.71</td>\n",
       "      <td>CR</td>\n",
       "    </tr>\n",
       "    <tr>\n",
       "      <th>27</th>\n",
       "      <td>2022-09-12</td>\n",
       "      <td>Bank interest</td>\n",
       "      <td>162.68</td>\n",
       "      <td>CR</td>\n",
       "    </tr>\n",
       "    <tr>\n",
       "      <th>29</th>\n",
       "      <td>2022-09-17</td>\n",
       "      <td>Salary</td>\n",
       "      <td>277.45</td>\n",
       "      <td>CR</td>\n",
       "    </tr>\n",
       "    <tr>\n",
       "      <th>38</th>\n",
       "      <td>2022-11-04</td>\n",
       "      <td>Salary</td>\n",
       "      <td>73.42</td>\n",
       "      <td>CR</td>\n",
       "    </tr>\n",
       "    <tr>\n",
       "      <th>40</th>\n",
       "      <td>2022-11-10</td>\n",
       "      <td>Salary</td>\n",
       "      <td>453.01</td>\n",
       "      <td>CR</td>\n",
       "    </tr>\n",
       "    <tr>\n",
       "      <th>43</th>\n",
       "      <td>2023-01-01</td>\n",
       "      <td>Bank interest</td>\n",
       "      <td>388.85</td>\n",
       "      <td>CR</td>\n",
       "    </tr>\n",
       "    <tr>\n",
       "      <th>47</th>\n",
       "      <td>2023-01-10</td>\n",
       "      <td>Salary</td>\n",
       "      <td>329.51</td>\n",
       "      <td>CR</td>\n",
       "    </tr>\n",
       "    <tr>\n",
       "      <th>57</th>\n",
       "      <td>2023-02-22</td>\n",
       "      <td>Bank interest</td>\n",
       "      <td>384.19</td>\n",
       "      <td>CR</td>\n",
       "    </tr>\n",
       "    <tr>\n",
       "      <th>58</th>\n",
       "      <td>2023-03-07</td>\n",
       "      <td>Salary</td>\n",
       "      <td>12.79</td>\n",
       "      <td>CR</td>\n",
       "    </tr>\n",
       "    <tr>\n",
       "      <th>61</th>\n",
       "      <td>2023-03-08</td>\n",
       "      <td>Salary</td>\n",
       "      <td>96.67</td>\n",
       "      <td>CR</td>\n",
       "    </tr>\n",
       "    <tr>\n",
       "      <th>64</th>\n",
       "      <td>2023-03-08</td>\n",
       "      <td>Bank interest</td>\n",
       "      <td>109.92</td>\n",
       "      <td>CR</td>\n",
       "    </tr>\n",
       "    <tr>\n",
       "      <th>66</th>\n",
       "      <td>2023-03-12</td>\n",
       "      <td>Bank interest</td>\n",
       "      <td>241.00</td>\n",
       "      <td>CR</td>\n",
       "    </tr>\n",
       "    <tr>\n",
       "      <th>70</th>\n",
       "      <td>2023-03-17</td>\n",
       "      <td>Salary</td>\n",
       "      <td>417.34</td>\n",
       "      <td>CR</td>\n",
       "    </tr>\n",
       "    <tr>\n",
       "      <th>74</th>\n",
       "      <td>2023-03-23</td>\n",
       "      <td>Salary</td>\n",
       "      <td>407.95</td>\n",
       "      <td>CR</td>\n",
       "    </tr>\n",
       "    <tr>\n",
       "      <th>75</th>\n",
       "      <td>2023-03-27</td>\n",
       "      <td>Salary</td>\n",
       "      <td>94.77</td>\n",
       "      <td>CR</td>\n",
       "    </tr>\n",
       "    <tr>\n",
       "      <th>88</th>\n",
       "      <td>2023-04-30</td>\n",
       "      <td>Salary</td>\n",
       "      <td>147.24</td>\n",
       "      <td>CR</td>\n",
       "    </tr>\n",
       "    <tr>\n",
       "      <th>92</th>\n",
       "      <td>2023-05-14</td>\n",
       "      <td>Bank interest</td>\n",
       "      <td>115.79</td>\n",
       "      <td>CR</td>\n",
       "    </tr>\n",
       "    <tr>\n",
       "      <th>94</th>\n",
       "      <td>2023-05-17</td>\n",
       "      <td>Salary</td>\n",
       "      <td>288.31</td>\n",
       "      <td>CR</td>\n",
       "    </tr>\n",
       "  </tbody>\n",
       "</table>\n",
       "</div>"
      ],
      "text/plain": [
       "0         Date    Description  Amount Type\n",
       "5   2022-06-20         Salary  144.07   CR\n",
       "10  2022-07-03         Salary  345.55   CR\n",
       "15  2022-08-01         Salary  402.10   CR\n",
       "20  2022-08-22         Salary  161.71   CR\n",
       "27  2022-09-12  Bank interest  162.68   CR\n",
       "29  2022-09-17         Salary  277.45   CR\n",
       "38  2022-11-04         Salary   73.42   CR\n",
       "40  2022-11-10         Salary  453.01   CR\n",
       "43  2023-01-01  Bank interest  388.85   CR\n",
       "47  2023-01-10         Salary  329.51   CR\n",
       "57  2023-02-22  Bank interest  384.19   CR\n",
       "58  2023-03-07         Salary   12.79   CR\n",
       "61  2023-03-08         Salary   96.67   CR\n",
       "64  2023-03-08  Bank interest  109.92   CR\n",
       "66  2023-03-12  Bank interest  241.00   CR\n",
       "70  2023-03-17         Salary  417.34   CR\n",
       "74  2023-03-23         Salary  407.95   CR\n",
       "75  2023-03-27         Salary   94.77   CR\n",
       "88  2023-04-30         Salary  147.24   CR\n",
       "92  2023-05-14  Bank interest  115.79   CR\n",
       "94  2023-05-17         Salary  288.31   CR"
      ]
     },
     "execution_count": 4,
     "metadata": {},
     "output_type": "execute_result"
    }
   ],
   "source": [
    "# sort transactions according to credited amount\n",
    "df[df['Type'] == 'CR']"
   ]
  },
  {
   "cell_type": "code",
   "execution_count": 5,
   "metadata": {},
   "outputs": [
    {
     "name": "stdout",
     "output_type": "stream",
     "text": [
      "<class 'pandas.core.frame.DataFrame'>\n",
      "RangeIndex: 100 entries, 0 to 99\n",
      "Data columns (total 4 columns):\n",
      " #   Column       Non-Null Count  Dtype \n",
      "---  ------       --------------  ----- \n",
      " 0   Date         100 non-null    object\n",
      " 1   Description  100 non-null    object\n",
      " 2   Amount       100 non-null    object\n",
      " 3   Type         100 non-null    object\n",
      "dtypes: object(4)\n",
      "memory usage: 3.3+ KB\n"
     ]
    }
   ],
   "source": [
    "df.info()"
   ]
  },
  {
   "cell_type": "code",
   "execution_count": 6,
   "metadata": {},
   "outputs": [],
   "source": [
    "# as Date is in object dtype we need to convert it in datetime\n",
    "df['Date'] = pd.to_datetime(df['Date'], format='%Y-%m-%d', errors='coerce')"
   ]
  },
  {
   "cell_type": "code",
   "execution_count": 7,
   "metadata": {},
   "outputs": [
    {
     "data": {
      "text/plain": [
       "0\n",
       "Date           datetime64[ns]\n",
       "Description            object\n",
       "Amount                  int64\n",
       "Type                   object\n",
       "dtype: object"
      ]
     },
     "execution_count": 7,
     "metadata": {},
     "output_type": "execute_result"
    }
   ],
   "source": [
    "# to change data type of amount from object to int \n",
    "df['Amount'] = df['Amount'].astype(float).astype('int64')\n",
    "df.dtypes"
   ]
  },
  {
   "cell_type": "code",
   "execution_count": 8,
   "metadata": {},
   "outputs": [
    {
     "data": {
      "text/plain": [
       "5044"
      ]
     },
     "execution_count": 8,
     "metadata": {},
     "output_type": "execute_result"
    }
   ],
   "source": [
    "# to get total credited amount\n",
    "df[df['Type']=='CR']['Amount'].sum()"
   ]
  },
  {
   "cell_type": "code",
   "execution_count": 9,
   "metadata": {},
   "outputs": [
    {
     "data": {
      "text/plain": [
       "19563"
      ]
     },
     "execution_count": 9,
     "metadata": {},
     "output_type": "execute_result"
    }
   ],
   "source": [
    "# to get total debited amount\n",
    "df[df['Type']=='DR']['Amount'].sum()"
   ]
  },
  {
   "cell_type": "code",
   "execution_count": 10,
   "metadata": {},
   "outputs": [
    {
     "data": {
      "text/plain": [
       "Date\n",
       "1      5\n",
       "2     10\n",
       "3     18\n",
       "4     13\n",
       "5      9\n",
       "6     11\n",
       "7      6\n",
       "8      9\n",
       "9      7\n",
       "10     7\n",
       "11     3\n",
       "12     2\n",
       "Name: Date, dtype: int64"
      ]
     },
     "execution_count": 10,
     "metadata": {},
     "output_type": "execute_result"
    }
   ],
   "source": [
    "# to check how many entries are there in each month\n",
    "df.groupby(df['Date'].dt.month)['Date'].count()"
   ]
  },
  {
   "cell_type": "code",
   "execution_count": 11,
   "metadata": {},
   "outputs": [
    {
     "data": {
      "text/plain": [
       "0\n",
       "Date           9\n",
       "Description    9\n",
       "Amount         9\n",
       "Type           9\n",
       "dtype: int64"
      ]
     },
     "execution_count": 11,
     "metadata": {},
     "output_type": "execute_result"
    }
   ],
   "source": [
    "# to check transaction entries in specific month\n",
    "df[df['Date'].dt.month == 5].count()"
   ]
  },
  {
   "cell_type": "code",
   "execution_count": 12,
   "metadata": {},
   "outputs": [],
   "source": [
    "#creating a month column in dataframe\n",
    "# df['Month'] = df['Date'].dt.month\n",
    "df['Month'] = df['Date'].dt.to_period('M')"
   ]
  },
  {
   "cell_type": "code",
   "execution_count": 13,
   "metadata": {},
   "outputs": [
    {
     "data": {
      "text/plain": [
       "0\n",
       "Date           datetime64[ns]\n",
       "Description            object\n",
       "Amount                  int64\n",
       "Type                   object\n",
       "Month               period[M]\n",
       "dtype: object"
      ]
     },
     "execution_count": 13,
     "metadata": {},
     "output_type": "execute_result"
    }
   ],
   "source": [
    "df.dtypes"
   ]
  },
  {
   "cell_type": "code",
   "execution_count": 14,
   "metadata": {},
   "outputs": [
    {
     "data": {
      "text/plain": [
       "Month    Type\n",
       "2022-06  CR       144\n",
       "         DR      1644\n",
       "2022-07  CR       345\n",
       "         DR      1059\n",
       "2022-08  CR       563\n",
       "         DR      1760\n",
       "2022-09  CR       439\n",
       "         DR      1243\n",
       "2022-10  DR      1646\n",
       "2022-11  CR       526\n",
       "         DR       454\n",
       "2022-12  DR       743\n",
       "2023-01  CR       717\n",
       "         DR       973\n",
       "2023-02  CR       384\n",
       "         DR      2356\n",
       "2023-03  CR      1376\n",
       "         DR      2009\n",
       "2023-04  CR       147\n",
       "         DR      2788\n",
       "2023-05  CR       403\n",
       "         DR      2170\n",
       "2023-06  DR       718\n",
       "Name: Amount, dtype: int64"
      ]
     },
     "execution_count": 14,
     "metadata": {},
     "output_type": "execute_result"
    }
   ],
   "source": [
    "#gives detail of how much is credited and debited each month\n",
    "month_summary = df.groupby(['Month', 'Type'])['Amount'].sum()\n",
    "month_summary"
   ]
  },
  {
   "cell_type": "code",
   "execution_count": 15,
   "metadata": {},
   "outputs": [
    {
     "data": {
      "text/html": [
       "<div>\n",
       "<style scoped>\n",
       "    .dataframe tbody tr th:only-of-type {\n",
       "        vertical-align: middle;\n",
       "    }\n",
       "\n",
       "    .dataframe tbody tr th {\n",
       "        vertical-align: top;\n",
       "    }\n",
       "\n",
       "    .dataframe thead th {\n",
       "        text-align: right;\n",
       "    }\n",
       "</style>\n",
       "<table border=\"1\" class=\"dataframe\">\n",
       "  <thead>\n",
       "    <tr style=\"text-align: right;\">\n",
       "      <th></th>\n",
       "      <th>Month</th>\n",
       "      <th>Type</th>\n",
       "      <th>Amount</th>\n",
       "    </tr>\n",
       "  </thead>\n",
       "  <tbody>\n",
       "    <tr>\n",
       "      <th>0</th>\n",
       "      <td>2022-06</td>\n",
       "      <td>CR</td>\n",
       "      <td>144</td>\n",
       "    </tr>\n",
       "    <tr>\n",
       "      <th>1</th>\n",
       "      <td>2022-06</td>\n",
       "      <td>DR</td>\n",
       "      <td>1644</td>\n",
       "    </tr>\n",
       "    <tr>\n",
       "      <th>2</th>\n",
       "      <td>2022-07</td>\n",
       "      <td>CR</td>\n",
       "      <td>345</td>\n",
       "    </tr>\n",
       "    <tr>\n",
       "      <th>3</th>\n",
       "      <td>2022-07</td>\n",
       "      <td>DR</td>\n",
       "      <td>1059</td>\n",
       "    </tr>\n",
       "    <tr>\n",
       "      <th>4</th>\n",
       "      <td>2022-08</td>\n",
       "      <td>CR</td>\n",
       "      <td>563</td>\n",
       "    </tr>\n",
       "    <tr>\n",
       "      <th>5</th>\n",
       "      <td>2022-08</td>\n",
       "      <td>DR</td>\n",
       "      <td>1760</td>\n",
       "    </tr>\n",
       "    <tr>\n",
       "      <th>6</th>\n",
       "      <td>2022-09</td>\n",
       "      <td>CR</td>\n",
       "      <td>439</td>\n",
       "    </tr>\n",
       "    <tr>\n",
       "      <th>7</th>\n",
       "      <td>2022-09</td>\n",
       "      <td>DR</td>\n",
       "      <td>1243</td>\n",
       "    </tr>\n",
       "    <tr>\n",
       "      <th>8</th>\n",
       "      <td>2022-10</td>\n",
       "      <td>DR</td>\n",
       "      <td>1646</td>\n",
       "    </tr>\n",
       "    <tr>\n",
       "      <th>9</th>\n",
       "      <td>2022-11</td>\n",
       "      <td>CR</td>\n",
       "      <td>526</td>\n",
       "    </tr>\n",
       "    <tr>\n",
       "      <th>10</th>\n",
       "      <td>2022-11</td>\n",
       "      <td>DR</td>\n",
       "      <td>454</td>\n",
       "    </tr>\n",
       "    <tr>\n",
       "      <th>11</th>\n",
       "      <td>2022-12</td>\n",
       "      <td>DR</td>\n",
       "      <td>743</td>\n",
       "    </tr>\n",
       "    <tr>\n",
       "      <th>12</th>\n",
       "      <td>2023-01</td>\n",
       "      <td>CR</td>\n",
       "      <td>717</td>\n",
       "    </tr>\n",
       "    <tr>\n",
       "      <th>13</th>\n",
       "      <td>2023-01</td>\n",
       "      <td>DR</td>\n",
       "      <td>973</td>\n",
       "    </tr>\n",
       "    <tr>\n",
       "      <th>14</th>\n",
       "      <td>2023-02</td>\n",
       "      <td>CR</td>\n",
       "      <td>384</td>\n",
       "    </tr>\n",
       "    <tr>\n",
       "      <th>15</th>\n",
       "      <td>2023-02</td>\n",
       "      <td>DR</td>\n",
       "      <td>2356</td>\n",
       "    </tr>\n",
       "    <tr>\n",
       "      <th>16</th>\n",
       "      <td>2023-03</td>\n",
       "      <td>CR</td>\n",
       "      <td>1376</td>\n",
       "    </tr>\n",
       "    <tr>\n",
       "      <th>17</th>\n",
       "      <td>2023-03</td>\n",
       "      <td>DR</td>\n",
       "      <td>2009</td>\n",
       "    </tr>\n",
       "    <tr>\n",
       "      <th>18</th>\n",
       "      <td>2023-04</td>\n",
       "      <td>CR</td>\n",
       "      <td>147</td>\n",
       "    </tr>\n",
       "    <tr>\n",
       "      <th>19</th>\n",
       "      <td>2023-04</td>\n",
       "      <td>DR</td>\n",
       "      <td>2788</td>\n",
       "    </tr>\n",
       "    <tr>\n",
       "      <th>20</th>\n",
       "      <td>2023-05</td>\n",
       "      <td>CR</td>\n",
       "      <td>403</td>\n",
       "    </tr>\n",
       "    <tr>\n",
       "      <th>21</th>\n",
       "      <td>2023-05</td>\n",
       "      <td>DR</td>\n",
       "      <td>2170</td>\n",
       "    </tr>\n",
       "    <tr>\n",
       "      <th>22</th>\n",
       "      <td>2023-06</td>\n",
       "      <td>DR</td>\n",
       "      <td>718</td>\n",
       "    </tr>\n",
       "  </tbody>\n",
       "</table>\n",
       "</div>"
      ],
      "text/plain": [
       "      Month Type  Amount\n",
       "0   2022-06   CR     144\n",
       "1   2022-06   DR    1644\n",
       "2   2022-07   CR     345\n",
       "3   2022-07   DR    1059\n",
       "4   2022-08   CR     563\n",
       "5   2022-08   DR    1760\n",
       "6   2022-09   CR     439\n",
       "7   2022-09   DR    1243\n",
       "8   2022-10   DR    1646\n",
       "9   2022-11   CR     526\n",
       "10  2022-11   DR     454\n",
       "11  2022-12   DR     743\n",
       "12  2023-01   CR     717\n",
       "13  2023-01   DR     973\n",
       "14  2023-02   CR     384\n",
       "15  2023-02   DR    2356\n",
       "16  2023-03   CR    1376\n",
       "17  2023-03   DR    2009\n",
       "18  2023-04   CR     147\n",
       "19  2023-04   DR    2788\n",
       "20  2023-05   CR     403\n",
       "21  2023-05   DR    2170\n",
       "22  2023-06   DR     718"
      ]
     },
     "execution_count": 15,
     "metadata": {},
     "output_type": "execute_result"
    }
   ],
   "source": [
    "# Reset index to convert the 'YearMonth' index into a column\n",
    "month_summary = month_summary.reset_index()\n",
    "month_summary"
   ]
  },
  {
   "cell_type": "code",
   "execution_count": 16,
   "metadata": {},
   "outputs": [
    {
     "data": {
      "text/plain": [
       "0\n",
       "Date           2023-05-05 00:00:00\n",
       "Description                   Food\n",
       "Amount                         498\n",
       "Type                            DR\n",
       "Month                      2023-05\n",
       "Name: 90, dtype: object"
      ]
     },
     "execution_count": 16,
     "metadata": {},
     "output_type": "execute_result"
    }
   ],
   "source": [
    "# Find the row with the maximum transacted amount\n",
    "max_amount_row = df.loc[df['Amount'].idxmax()]\n",
    "\n",
    "max_amount_row"
   ]
  },
  {
   "cell_type": "code",
   "execution_count": 17,
   "metadata": {},
   "outputs": [
    {
     "data": {
      "text/plain": [
       "0\n",
       "Date           2023-03-07 00:00:00\n",
       "Description                 Salary\n",
       "Amount                          12\n",
       "Type                            CR\n",
       "Month                      2023-03\n",
       "Name: 58, dtype: object"
      ]
     },
     "execution_count": 17,
     "metadata": {},
     "output_type": "execute_result"
    }
   ],
   "source": [
    "# Find the row with the minimum transacted amount\n",
    "df.loc[df['Amount'].idxmin()]"
   ]
  },
  {
   "cell_type": "code",
   "execution_count": 18,
   "metadata": {},
   "outputs": [],
   "source": [
    "CR = df[df['Type']=='CR']\n",
    "DR = df[df['Type']=='DR']"
   ]
  },
  {
   "cell_type": "code",
   "execution_count": 19,
   "metadata": {},
   "outputs": [
    {
     "data": {
      "image/png": "[encoded data removed]",
      "text/plain": [
       "<Figure size 1000x600 with 1 Axes>"
      ]
     },
     "metadata": {},
     "output_type": "display_data"
    }
   ],
   "source": [
    "# Visualization of credited amount every month\n",
    "plt.figure(figsize=(10, 6))  # Optional: Adjust figure size\n",
    "\n",
    "# Plotting\n",
    "x = CR['Month']\n",
    "y = CR['Amount']\n",
    "plt.plot(list(range(len(y))),y)\n",
    "plt.xticks(list(range(len(y))), x, rotation = 90)\n",
    "\n",
    "plt.show()"
   ]
  },
  {
   "cell_type": "code",
   "execution_count": 20,
   "metadata": {},
   "outputs": [
    {
     "data": {
      "image/png": "[encoded data removed]",
      "text/plain": [
       "<Figure size 1500x600 with 1 Axes>"
      ]
     },
     "metadata": {},
     "output_type": "display_data"
    }
   ],
   "source": [
    "# Visualization of debited amount every month\n",
    "plt.figure(figsize=(15, 6))  # Optional: Adjust figure size\n",
    "\n",
    "# Plotting\n",
    "x = DR['Month']\n",
    "y = DR['Amount']\n",
    "plt.plot(list(range(len(y))),y)\n",
    "plt.xticks(list(range(len(y))), x, rotation = 90)\n",
    "\n",
    "plt.show()"
   ]
  }
 ],
 "metadata": {
  "kernelspec": {
   "display_name": "Python 3",
   "language": "python",
   "name": "python3"
  },
  "language_info": {
   "codemirror_mode": {
    "name": "ipython",
    "version": 3
   },
   "file_extension": ".py",
   "mimetype": "text/x-python",
   "name": "python",
   "nbconvert_exporter": "python",
   "pygments_lexer": "ipython3",
   "version": "3.12.0"
  }
 },
 "nbformat": 4,
 "nbformat_minor": 2
}

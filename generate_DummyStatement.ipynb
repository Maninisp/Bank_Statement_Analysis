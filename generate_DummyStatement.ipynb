{
 "cells": [
  {
   "cell_type": "code",
   "execution_count": 1,
   "metadata": {},
   "outputs": [
    {
     "data": {
      "text/html": [
       "<div>\n",
       "<style scoped>\n",
       "    .dataframe tbody tr th:only-of-type {\n",
       "        vertical-align: middle;\n",
       "    }\n",
       "\n",
       "    .dataframe tbody tr th {\n",
       "        vertical-align: top;\n",
       "    }\n",
       "\n",
       "    .dataframe thead th {\n",
       "        text-align: right;\n",
       "    }\n",
       "</style>\n",
       "<table border=\"1\" class=\"dataframe\">\n",
       "  <thead>\n",
       "    <tr style=\"text-align: right;\">\n",
       "      <th></th>\n",
       "      <th>Date</th>\n",
       "      <th>Description</th>\n",
       "      <th>Amount</th>\n",
       "      <th>Type</th>\n",
       "    </tr>\n",
       "  </thead>\n",
       "  <tbody>\n",
       "    <tr>\n",
       "      <th>0</th>\n",
       "      <td>2022-06-03</td>\n",
       "      <td>Electricity</td>\n",
       "      <td>70.28</td>\n",
       "      <td>DR</td>\n",
       "    </tr>\n",
       "    <tr>\n",
       "      <th>1</th>\n",
       "      <td>2022-06-03</td>\n",
       "      <td>Gym</td>\n",
       "      <td>219.13</td>\n",
       "      <td>DR</td>\n",
       "    </tr>\n",
       "    <tr>\n",
       "      <th>2</th>\n",
       "      <td>2022-06-06</td>\n",
       "      <td>Bus</td>\n",
       "      <td>334.41</td>\n",
       "      <td>DR</td>\n",
       "    </tr>\n",
       "    <tr>\n",
       "      <th>3</th>\n",
       "      <td>2022-06-14</td>\n",
       "      <td>Electricity</td>\n",
       "      <td>212.68</td>\n",
       "      <td>DR</td>\n",
       "    </tr>\n",
       "    <tr>\n",
       "      <th>4</th>\n",
       "      <td>2022-06-14</td>\n",
       "      <td>Bank interest</td>\n",
       "      <td>304.41</td>\n",
       "      <td>CR</td>\n",
       "    </tr>\n",
       "  </tbody>\n",
       "</table>\n",
       "</div>"
      ],
      "text/plain": [
       "        Date    Description  Amount Type\n",
       "0 2022-06-03    Electricity   70.28   DR\n",
       "1 2022-06-03            Gym  219.13   DR\n",
       "2 2022-06-06            Bus  334.41   DR\n",
       "3 2022-06-14    Electricity  212.68   DR\n",
       "4 2022-06-14  Bank interest  304.41   CR"
      ]
     },
     "execution_count": 1,
     "metadata": {},
     "output_type": "execute_result"
    }
   ],
   "source": [
    "import pandas as pd\n",
    "import numpy as np\n",
    "from datetime import datetime, timedelta\n",
    "import random\n",
    "\n",
    "# Function to generate random dates\n",
    "def generate_random_dates(start_date, end_date, n):\n",
    "    start = datetime.strptime(start_date, '%Y-%m-%d')\n",
    "    end = datetime.strptime(end_date, '%Y-%m-%d')\n",
    "    date_list = [start + timedelta(days=random.randint(0, (end - start).days)) for _ in range(n)]\n",
    "    return date_list\n",
    "\n",
    "# Function to generate random transactions\n",
    "def generate_random_transactions(n):\n",
    "    descriptions = ['Food', 'Bus', 'Train', 'Mall', 'Grocery', 'Rent', 'Salary', 'Bank interest', 'Electricity', 'Internet', 'Gym']\n",
    "    transactions = []\n",
    "    for _ in range(n):\n",
    "        date = random.choice(dates)\n",
    "        description = random.choice(descriptions)\n",
    "        amount = round(random.uniform(10, 500), 2)\n",
    "        # transaction_type = random.choice(['CR', 'DR'])\n",
    "        if description in ['Salary', 'Bank interest']:\n",
    "            transaction_type = 'CR'\n",
    "        else:\n",
    "            transaction_type = 'DR'\n",
    "        transactions.append([date, description, amount, transaction_type])\n",
    "    return transactions\n",
    "\n",
    "# Generate random data\n",
    "num_entries = 100\n",
    "dates = generate_random_dates('2022-06-01', '2023-06-01', num_entries)\n",
    "transactions = generate_random_transactions(num_entries)\n",
    "\n",
    "# Create a DataFrame\n",
    "df = pd.DataFrame(transactions, columns=['Date', 'Description', 'Amount', 'Type'])\n",
    "\n",
    "# Sort by date\n",
    "df['Date'] = pd.to_datetime(df['Date'])\n",
    "df = df.sort_values(by='Date').reset_index(drop=True)\n",
    "\n",
    "df.head()\n"
   ]
  },
  {
   "cell_type": "code",
   "execution_count": 2,
   "metadata": {},
   "outputs": [
    {
     "data": {
      "text/plain": [
       "Date           100\n",
       "Description    100\n",
       "Amount         100\n",
       "Type           100\n",
       "dtype: int64"
      ]
     },
     "execution_count": 2,
     "metadata": {},
     "output_type": "execute_result"
    }
   ],
   "source": [
    "# to check rows created\n",
    "df.count()"
   ]
  },
  {
   "cell_type": "code",
   "execution_count": 3,
   "metadata": {},
   "outputs": [],
   "source": [
    "# to create csv format of data\n",
    "df.to_csv('Bank_Statement.csv', index=False)"
   ]
  },
  {
   "cell_type": "code",
   "execution_count": 4,
   "metadata": {},
   "outputs": [
    {
     "data": {
      "text/plain": [
       "'Bank_Statement.pdf'"
      ]
     },
     "execution_count": 4,
     "metadata": {},
     "output_type": "execute_result"
    }
   ],
   "source": [
    "# to make pdf of dummy statement\n",
    "from fpdf import FPDF\n",
    "\n",
    "# Create the updated DataFrame as per the user's code\n",
    "# Generate random data\n",
    "num_entries = 100\n",
    "dates = generate_random_dates('2022-06-01', '2023-06-01', num_entries)\n",
    "transactions = generate_random_transactions(num_entries)\n",
    "\n",
    "# Create a DataFrame\n",
    "df = pd.DataFrame(transactions, columns=['Date', 'Description', 'Amount', 'Type'])\n",
    "\n",
    "# Sort by date\n",
    "df['Date'] = pd.to_datetime(df['Date'])\n",
    "df = df.sort_values(by='Date').reset_index(drop=True)\n",
    "\n",
    "# Function to generate PDF\n",
    "class PDF(FPDF):\n",
    "    def header(self):\n",
    "        self.set_font('Arial', 'B', 12)\n",
    "        self.cell(0, 10, 'Bank Statement', 0, 1, 'C')\n",
    "\n",
    "    def footer(self):\n",
    "        self.set_y(-15)\n",
    "        self.set_font('Arial', 'I', 8)\n",
    "        self.cell(0, 10, f'Page {self.page_no()}', 0, 0, 'C')\n",
    "\n",
    "    def table(self, data):\n",
    "        self.set_font('Arial', 'B', 10)\n",
    "        col_width = self.w / 4  # distribute content evenly\n",
    "        th = self.font_size\n",
    "        \n",
    "        # Table header\n",
    "        self.cell(col_width, th, 'Date', border=1)\n",
    "        self.cell(col_width, th, 'Description', border=1)\n",
    "        self.cell(col_width, th, 'Amount', border=1)\n",
    "        self.cell(col_width, th, 'Type', border=1)\n",
    "        self.ln(th)\n",
    "        \n",
    "        # Table body\n",
    "        self.set_font('Arial', '', 10)\n",
    "        for row in data.itertuples():\n",
    "            self.cell(col_width, th, str(row.Date.date()), border=1)\n",
    "            self.cell(col_width, th, row.Description, border=1)\n",
    "            self.cell(col_width, th, f'{row.Amount:.2f}', border=1)\n",
    "            self.cell(col_width, th, row.Type, border=1)\n",
    "            self.ln(th)\n",
    "\n",
    "# Create PDF\n",
    "pdf = PDF()\n",
    "pdf.add_page()\n",
    "pdf.table(df)\n",
    "\n",
    "# Save the PDF to a file\n",
    "output_path = \"Bank_Statement.pdf\"\n",
    "pdf.output(output_path)\n",
    "\n",
    "output_path\n"
   ]
  },
  {
   "cell_type": "code",
   "execution_count": null,
   "metadata": {},
   "outputs": [],
   "source": []
  }
 ],
 "metadata": {
  "kernelspec": {
   "display_name": "Python 3",
   "language": "python",
   "name": "python3"
  },
  "language_info": {
   "codemirror_mode": {
    "name": "ipython",
    "version": 3
   },
   "file_extension": ".py",
   "mimetype": "text/x-python",
   "name": "python",
   "nbconvert_exporter": "python",
   "pygments_lexer": "ipython3",
   "version": "3.12.0"
  }
 },
 "nbformat": 4,
 "nbformat_minor": 2
}
